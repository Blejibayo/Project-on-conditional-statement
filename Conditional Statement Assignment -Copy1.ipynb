{
 "cells": [
  {
   "cell_type": "markdown",
   "id": "81982dc0-8f21-4e11-a131-64ce868c3288",
   "metadata": {},
   "source": [
    "Project on conditional statement"
   ]
  },
  {
   "cell_type": "code",
   "execution_count": 15,
   "id": "0c5682d8-4b4a-44a3-bc79-fb0063fc20f1",
   "metadata": {},
   "outputs": [
    {
     "name": "stdin",
     "output_type": "stream",
     "text": [
      "what is your name? blejibayo\n",
      "how old are you? 63\n",
      "do you have a driver? yes\n",
      "does your driver have a license yes\n"
     ]
    },
    {
     "name": "stdout",
     "output_type": "stream",
     "text": [
      "hello blejibayo, you are 63 years old you can drive in\n"
     ]
    }
   ],
   "source": [
    "name=str(input(\"what is your name?\"))\n",
    "age=int(input(\"how old are you?\"))\n",
    "if age>=0 and age<=18:\n",
    "    print(f\"hello {name}, you are {age} years old you are too young to drive\")\n",
    "elif age>18 and age<=25:\n",
    "    print(f\"hello {name}, you are {age} years old you can drive\")\n",
    "elif age>25 and age<=40:\n",
    "    print(f\"hello {name},you are {age} years old be careful while driving\")\n",
    "elif age>40 and age<=60:\n",
    "    relearn=str(input(\"have you gone to relearn how to drive?\"))\n",
    "    if relearn==\"yes\":\n",
    "        print(f\"hello {name},you are {age} years old you can drive\")\n",
    "    elif relearn== \"no\":\n",
    "        print(f\"hello {name}, you are {age} years old go and relearn how to drive\")\n",
    "if age>60:\n",
    "    driver=str(input(\"do you have a driver?\"))\n",
    "    if driver==\"yes\":\n",
    "        license=str(input(\"does your driver have a license\"))\n",
    "        if license==\"yes\":\n",
    "            print(f\"hello {name}, you are {age} years old you can drive in\")\n",
    "        if license==\"no\":\n",
    "            print(f\"hello {name}, you are {age} years old you can't drive in\")\n",
    "    else:\n",
    "        print(f\"hello{name}, you are {age} yaers old you can't drive\")\n",
    "            "
   ]
  },
  {
   "cell_type": "code",
   "execution_count": null,
   "id": "56efd043-575a-4e65-be6e-f5d800b418f6",
   "metadata": {},
   "outputs": [],
   "source": []
  },
  {
   "cell_type": "code",
   "execution_count": null,
   "id": "d95c55d8-78a7-4ea0-9e39-d3a73899b496",
   "metadata": {},
   "outputs": [],
   "source": []
  },
  {
   "cell_type": "code",
   "execution_count": null,
   "id": "08f4fb11-f754-4d2e-8300-ddee6d5b47bf",
   "metadata": {},
   "outputs": [],
   "source": []
  }
 ],
 "metadata": {
  "kernelspec": {
   "display_name": "Python 3 (ipykernel)",
   "language": "python",
   "name": "python3"
  },
  "language_info": {
   "codemirror_mode": {
    "name": "ipython",
    "version": 3
   },
   "file_extension": ".py",
   "mimetype": "text/x-python",
   "name": "python",
   "nbconvert_exporter": "python",
   "pygments_lexer": "ipython3",
   "version": "3.11.7"
  }
 },
 "nbformat": 4,
 "nbformat_minor": 5
}
